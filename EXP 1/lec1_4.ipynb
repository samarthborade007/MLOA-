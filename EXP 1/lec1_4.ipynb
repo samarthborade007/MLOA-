{
 "cells": [
  {
   "cell_type": "markdown",
   "metadata": {},
   "source": [
    "# Neural Network"
   ]
  },
  {
   "cell_type": "code",
   "execution_count": 13,
   "metadata": {},
   "outputs": [
    {
     "name": "stdout",
     "output_type": "stream",
     "text": [
      "(420, 785)\n"
     ]
    }
   ],
   "source": [
    "import pandas as pd\n",
    "import numpy as np\n",
    "from sklearn.model_selection import train_test_split\n",
    "from sklearn.preprocessing import StandardScaler\n",
    "from sklearn.metrics import accuracy_score\n",
    "from keras.models import Sequential\n",
    "from keras.layers import Dense\n",
    "from keras.utils import to_categorical\n",
    "\n",
    "# Load train data\n",
    "train_df = pd.read_csv('train.csv')\n",
    "\n",
    "# Sample 10% of the training data for testing code functionality\n",
    "sample_train_df = train_df.sample(frac=0.01, random_state=42)\n",
    "print(sample_train_df.shape)\n"
   ]
  },
  {
   "cell_type": "code",
   "execution_count": 14,
   "metadata": {},
   "outputs": [],
   "source": [
    "\n",
    "# Separate features and labels in the training data\n",
    "X_train = sample_train_df.drop('label', axis=1).values.astype('float32')\n",
    "y_train = sample_train_df['label'].values\n",
    "\n",
    "# Normalize features\n",
    "scaler = StandardScaler()\n",
    "X_train = scaler.fit_transform(X_train)\n",
    "\n",
    "# Convert labels to categorical (one-hot encoded)\n",
    "y_train = to_categorical(y_train)\n",
    "\n",
    "# Split training data for validation\n",
    "X_train, X_val, y_train, y_val = train_test_split(X_train, y_train, test_size=0.1, random_state=42)\n"
   ]
  },
  {
   "cell_type": "code",
   "execution_count": 15,
   "metadata": {},
   "outputs": [],
   "source": [
    "\n",
    "# Build a simple neural network model\n",
    "model = Sequential()\n",
    "model.add(Dense(256, activation='relu', input_shape=(X_train.shape[1],)))\n",
    "model.add(Dense(128, activation='relu'))\n",
    "model.add(Dense(10, activation='softmax'))\n",
    "\n",
    "# Compile the model\n",
    "model.compile(optimizer='adam', loss='categorical_crossentropy', metrics=['accuracy'])\n"
   ]
  },
  {
   "cell_type": "code",
   "execution_count": 16,
   "metadata": {},
   "outputs": [
    {
     "name": "stdout",
     "output_type": "stream",
     "text": [
      "Epoch 1/10\n",
      "6/6 [==============================] - 1s 59ms/step - loss: 2.0812 - accuracy: 0.4339 - val_loss: 1.1208 - val_accuracy: 0.5952\n",
      "Epoch 2/10\n",
      "6/6 [==============================] - 0s 32ms/step - loss: 0.6598 - accuracy: 0.7831 - val_loss: 0.6254 - val_accuracy: 0.7857\n",
      "Epoch 3/10\n",
      "6/6 [==============================] - 0s 21ms/step - loss: 0.3277 - accuracy: 0.9180 - val_loss: 0.5078 - val_accuracy: 0.8571\n",
      "Epoch 4/10\n",
      "6/6 [==============================] - 0s 21ms/step - loss: 0.2160 - accuracy: 0.9471 - val_loss: 0.5015 - val_accuracy: 0.8571\n",
      "Epoch 5/10\n",
      "6/6 [==============================] - 0s 19ms/step - loss: 0.1458 - accuracy: 0.9656 - val_loss: 0.5168 - val_accuracy: 0.8571\n",
      "Epoch 6/10\n",
      "6/6 [==============================] - 0s 21ms/step - loss: 0.1031 - accuracy: 0.9841 - val_loss: 0.5187 - val_accuracy: 0.8571\n",
      "Epoch 7/10\n",
      "6/6 [==============================] - 0s 20ms/step - loss: 0.0758 - accuracy: 0.9868 - val_loss: 0.5522 - val_accuracy: 0.8571\n",
      "Epoch 8/10\n",
      "6/6 [==============================] - 0s 20ms/step - loss: 0.0562 - accuracy: 0.9947 - val_loss: 0.5657 - val_accuracy: 0.8571\n",
      "Epoch 9/10\n",
      "6/6 [==============================] - 0s 20ms/step - loss: 0.0474 - accuracy: 0.9947 - val_loss: 0.5786 - val_accuracy: 0.8571\n",
      "Epoch 10/10\n",
      "6/6 [==============================] - 0s 22ms/step - loss: 0.0372 - accuracy: 0.9974 - val_loss: 0.5844 - val_accuracy: 0.8333\n"
     ]
    }
   ],
   "source": [
    "\n",
    "# Train the model\n",
    "history = model.fit(X_train, y_train, epochs=10, batch_size=64, validation_data=(X_val, y_val), verbose=1)\n"
   ]
  },
  {
   "cell_type": "code",
   "execution_count": 17,
   "metadata": {},
   "outputs": [
    {
     "name": "stdout",
     "output_type": "stream",
     "text": [
      "2/2 [==============================] - 0s 243ms/step\n",
      "Accuracy: 83.33333333333334\n"
     ]
    }
   ],
   "source": [
    "\n",
    "# Predict on a subset of training data (for demonstration)\n",
    "y_pred = np.argmax(model.predict(X_val), axis=-1)\n",
    "\n",
    "# Calculate accuracy on the validation subset\n",
    "accuracy = accuracy_score(np.argmax(y_val, axis=1), y_pred)\n",
    "print(\"Accuracy:\", accuracy * 100)\n"
   ]
  }
 ],
 "metadata": {
  "kernelspec": {
   "display_name": "Python 3",
   "language": "python",
   "name": "python3"
  },
  "language_info": {
   "codemirror_mode": {
    "name": "ipython",
    "version": 3
   },
   "file_extension": ".py",
   "mimetype": "text/x-python",
   "name": "python",
   "nbconvert_exporter": "python",
   "pygments_lexer": "ipython3",
   "version": "3.11.6"
  }
 },
 "nbformat": 4,
 "nbformat_minor": 2
}
