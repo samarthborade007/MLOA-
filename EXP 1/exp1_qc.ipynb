{
 "cells": [
  {
   "cell_type": "code",
   "execution_count": 12,
   "metadata": {},
   "outputs": [],
   "source": [
    "from itertools import combinations\n",
    "\n",
    "def eql_part(arr):\n",
    "    average = sum(arr)/len(arr)\n",
    "\n",
    "    for i in range(1, len(arr)):\n",
    "        for subset in combinations(arr, i):\n",
    "            subset_sum = sum(subset)\n",
    "            if subset_sum / len(subset) == average:\n",
    "                subset_2 = [x for x in arr if x not in subset]\n",
    "                return sorted(subset), sorted(subset_2)\n",
    "    \n",
    "    return -1\n"
   ]
  },
  {
   "cell_type": "code",
   "execution_count": 16,
   "metadata": {},
   "outputs": [
    {
     "name": "stdout",
     "output_type": "stream",
     "text": [
      "Partitions: ([9, 15], [1, 7, 11, 29])\n"
     ]
    }
   ],
   "source": [
    "\n",
    "# Example usage\n",
    "arr = [1, 7, 15, 29, 11, 9]\n",
    "#arr = [3,5,4,4]\n",
    "#arr = [1,6,9,10]\n",
    "result = eql_part(arr)\n",
    "if result == -1:\n",
    "    print(\"No such partition exists\")\n",
    "else:\n",
    "    print(\"Partitions:\", result)\n"
   ]
  },
  {
   "cell_type": "code",
   "execution_count": null,
   "metadata": {},
   "outputs": [],
   "source": []
  }
 ],
 "metadata": {
  "kernelspec": {
   "display_name": "Python 3",
   "language": "python",
   "name": "python3"
  },
  "language_info": {
   "codemirror_mode": {
    "name": "ipython",
    "version": 3
   },
   "file_extension": ".py",
   "mimetype": "text/x-python",
   "name": "python",
   "nbconvert_exporter": "python",
   "pygments_lexer": "ipython3",
   "version": "3.11.6"
  }
 },
 "nbformat": 4,
 "nbformat_minor": 2
}
