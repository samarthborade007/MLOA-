{
 "cells": [
  {
   "cell_type": "code",
   "execution_count": 1,
   "metadata": {},
   "outputs": [],
   "source": [
    "import pandas as pd \n",
    "import numpy as np"
   ]
  },
  {
   "cell_type": "code",
   "execution_count": 3,
   "metadata": {},
   "outputs": [
    {
     "data": {
      "text/plain": [
       "'\\nWrite a Python program to find out when given an array of positive elements, you have to flip the sign of some of its elements such that the resultant sum of the elements of array should be minimum non-negative (as close to zero as possible). Return the minimum no. of elements whose sign needs to be flipped such that the resultant sum is minimum non-negative. Note that the sum of all the array elements will not exceed 10^4\\n\\nInput: arr[] = [14, 10, 4] \\nOutput: 1 \\n\\n'"
      ]
     },
     "execution_count": 3,
     "metadata": {},
     "output_type": "execute_result"
    }
   ],
   "source": [
    "'''\n",
    "Write a Python program to find out when given an array of positive elements, you have to flip the sign of some of its elements such that the resultant sum of the elements of array should be minimum non-negative \n",
    "(as close to zero as possible). Return the minimum no. of elements whose sign needs to be flipped such that the resultant sum is minimum non-negative. Note that the sum of all the array elements will not exceed 10^4\n",
    "\n",
    "Input: arr[] = [14, 10, 4] \n",
    "Output: 1 \n",
    "\n",
    "'''"
   ]
  },
  {
   "cell_type": "code",
   "execution_count": 83,
   "metadata": {},
   "outputs": [
    {
     "name": "stdout",
     "output_type": "stream",
     "text": [
      "[-28, 0, -8, 20, -20, 8, 0, 28]\n",
      "0\n"
     ]
    }
   ],
   "source": [
    "def printCombinations(a, n):\n",
    "    temp = []\n",
    "    \n",
    "    for i in range(0, (1 << n)): \n",
    "        sum = 0\n",
    "        for j in range(0, n): \n",
    "            if ((i & (1 << j)) > 0):\n",
    "                sum += a[j]\n",
    "            else:\n",
    "                sum += (-1 * a[j])\n",
    "        temp.append(sum)\n",
    "    temp2= []\n",
    "    \n",
    "    \n",
    "    for i in range(len(temp)):\n",
    "         if temp[i] >= 0 :\n",
    "            temp2.append(temp[i])\n",
    "    print(temp)\n",
    "    print(min(temp2))\n",
    "\n",
    "a = [14, 10, 4]\n",
    "n = len(a)\n",
    "printCombinations(a, n)\n"
   ]
  },
  {
   "cell_type": "code",
   "execution_count": 24,
   "metadata": {},
   "outputs": [
    {
     "name": "stdout",
     "output_type": "stream",
     "text": [
      "min sum: 0\n",
      "min flips: 1\n",
      "combination  [-14, 10, 4]\n"
     ]
    }
   ],
   "source": [
    "def min_sum(a):\n",
    "    temp = []\n",
    "    n = len(a)\n",
    "    for i in range(0, 2**n): # basically 2^n\n",
    "        comb = []\n",
    "        sum = 0\n",
    "        flips = 0\n",
    "        for j in range(0, n):\n",
    "            if ((i & 2**j) > 0):\n",
    "                sum += a[j]\n",
    "                comb.append(a[j])\n",
    "            else:\n",
    "                sum = sum + (-1 * a[j])\n",
    "                comb.append(-a[j])\n",
    "                flips += 1\n",
    "        temp.append((sum, flips, comb))\n",
    "\n",
    "    temp2 = []\n",
    "\n",
    "    for i in range(len(temp)):\n",
    "        if temp[i][0] >= 0:\n",
    "            temp2.append(temp[i])\n",
    "    #print(temp2)\n",
    "    temp2.sort()\n",
    "    #print(temp2)\n",
    "    print(\"min sum:\", temp2[0][0])\n",
    "    print(\"min flips:\", temp2[0][1])\n",
    "    print(\"combination \", temp2[0][2])\n",
    "\n",
    "a = [14, 10, 4]\n",
    "\n",
    "min_sum(a)\n"
   ]
  },
  {
   "cell_type": "code",
   "execution_count": 63,
   "metadata": {},
   "outputs": [
    {
     "name": "stdout",
     "output_type": "stream",
     "text": [
      "[[(2, 0), (1, 0), (0, 0), (0, 1), (0, 2)], [(2, 0), (1, 0), (1, 1), (0, 1), (0, 2)], [(2, 0), (1, 0), (1, 1), (1, 2), (0, 2)], [(2, 0), (1, 0), (1, 1), (0, 2)], [(2, 0), (1, 0), (0, 1), (0, 2)], [(2, 0), (2, 1), (1, 1), (0, 1), (0, 2)], [(2, 0), (2, 1), (1, 1), (1, 2), (0, 2)], [(2, 0), (2, 1), (1, 1), (0, 2)], [(2, 0), (2, 1), (2, 2), (1, 2), (0, 2)], [(2, 0), (2, 1), (1, 2), (0, 2)], [(2, 0), (1, 1), (0, 1), (0, 2)], [(2, 0), (1, 1), (1, 2), (0, 2)], [(2, 0), (1, 1), (0, 2)]]\n",
      "Sum of path 1: 12\n",
      "Sum of path 2: -3\n",
      "Sum of path 3: 17\n",
      "Sum of path 4: 7\n",
      "Sum of path 5: -8\n",
      "Sum of path 6: -2\n",
      "Sum of path 7: 18\n",
      "Sum of path 8: 8\n",
      "Sum of path 9: 16\n",
      "Sum of path 10: 13\n",
      "Sum of path 11: -4\n",
      "Sum of path 12: 16\n",
      "Sum of path 13: 6\n",
      "max sum: 18\n",
      "path: [(2, 0), (2, 1), (1, 1), (1, 2), (0, 2)]\n"
     ]
    }
   ],
   "source": [
    "def path(grid):\n",
    "    rows, cols = len(grid), len(grid[0])\n",
    "\n",
    "    def generatePaths(path, row, col):\n",
    "        paths = []  \n",
    "        if row == 0 and col == cols - 1:\n",
    "            paths.append(path)\n",
    "            return paths\n",
    "\n",
    "        if row > 0: #up\n",
    "            paths.extend(generatePaths(path + [(row - 1, col)], row - 1, col))\n",
    "        if col < cols - 1: #right\n",
    "            paths.extend(generatePaths(path + [(row, col + 1)], row, col + 1))\n",
    "        if row > 0 and col < cols - 1: #diagonal\n",
    "            paths.extend(generatePaths(path + [(row - 1, col + 1)], row - 1, col + 1))\n",
    "\n",
    "        return paths\n",
    "    return generatePaths([(rows - 1, 0)], rows - 1, 0)\n",
    "\n",
    "arr = [\n",
    "    [20, -10, 0],\n",
    "    [1, 5, 10],\n",
    "    [1, 2, 3]\n",
    "]\n",
    "temp2 = path(arr)\n",
    "print(temp2)\n",
    "\n",
    "max_sum=-9999999999\n",
    "max_sum_path = None\n",
    "\n",
    "for i, path in enumerate(temp2):\n",
    "    path_values = [arr[row][col] for row, col in path]\n",
    "    path_sum = sum(path_values)\n",
    "    \n",
    "    print(\"Sum of path {}: {}\".format(i + 1, path_sum))\n",
    "    \n",
    "    if path_sum > max_sum:\n",
    "        max_sum = path_sum\n",
    "        max_sum_path = path\n",
    "\n",
    "print(\"max sum:\", max_sum)\n",
    "print(\"path:\", max_sum_path)\n"
   ]
  },
  {
   "cell_type": "code",
   "execution_count": 66,
   "metadata": {},
   "outputs": [
    {
     "name": "stdout",
     "output_type": "stream",
     "text": [
      "[9, 8, 6, 4, 3, 2, 1, 0]\n",
      "n = 9 and r = 8\n",
      "[5, 4, 3, 2, 1]\n",
      "n = 5 and r = 4\n"
     ]
    }
   ],
   "source": [
    "def nPr(arr):\n",
    "    arr.sort(reverse=True) \n",
    "    print(arr) \n",
    "    n = arr[0]  \n",
    "    r = arr[1]  \n",
    "\n",
    "    print(\"n =\", n, \"and r =\", r)\n",
    "\n",
    "#simply reverse the array and pick the first 2 elems:\n",
    "arr = [0, 2, 3, 4, 1, 6, 8, 9]\n",
    "nPr(arr)\n",
    "\n",
    "arr2 = [5, 2, 3, 4, 1]\n",
    "nPr(arr2)\n"
   ]
  },
  {
   "cell_type": "code",
   "execution_count": 69,
   "metadata": {},
   "outputs": [
    {
     "name": "stdout",
     "output_type": "stream",
     "text": [
      "[1, 2, 2, 4, 4] : 2\n",
      "[1, 2, 2, 100] : 0\n"
     ]
    }
   ],
   "source": [
    "def nPr2(arr):\n",
    "    operations = 0\n",
    "    \n",
    "    for i in range(len(arr) - 1):\n",
    "        if arr[i] > arr[i + 1]:\n",
    "            operations += arr[i] - arr[i + 1]\n",
    "            arr[i + 1] = arr[i]  \n",
    "\n",
    "    return operations\n",
    "\n",
    "arr=[1, 2, 1, 4, 3]\n",
    "\n",
    "print(arr,\":\",nPr2(arr))\n",
    "\n",
    "arr2=[1, 2, 2, 100]\n",
    "print( arr2,\":\",nPr2(arr2))\n"
   ]
  },
  {
   "cell_type": "code",
   "execution_count": null,
   "metadata": {},
   "outputs": [],
   "source": []
  }
 ],
 "metadata": {
  "kernelspec": {
   "display_name": "Python 3",
   "language": "python",
   "name": "python3"
  },
  "language_info": {
   "codemirror_mode": {
    "name": "ipython",
    "version": 3
   },
   "file_extension": ".py",
   "mimetype": "text/x-python",
   "name": "python",
   "nbconvert_exporter": "python",
   "pygments_lexer": "ipython3",
   "version": "3.11.6"
  }
 },
 "nbformat": 4,
 "nbformat_minor": 2
}
