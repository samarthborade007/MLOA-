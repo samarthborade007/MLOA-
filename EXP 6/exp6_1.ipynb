{
 "cells": [
  {
   "cell_type": "code",
   "execution_count": 11,
   "metadata": {},
   "outputs": [],
   "source": [
    "# Importing necessary libraries\n",
    "from sklearn.model_selection import train_test_split\n",
    "from sklearn.linear_model import LogisticRegression\n",
    "from sklearn.metrics import accuracy_score, classification_report\n",
    "from sklearn.datasets import load_iris\n",
    "import pandas as pd\n",
    "\n",
    "iris_data = load_iris()\n",
    "\n",
    "iris_df = pd.DataFrame(iris_data.data, columns=iris_data.feature_names)\n",
    "iris_df['target'] = iris_data.target\n"
   ]
  },
  {
   "cell_type": "code",
   "execution_count": 12,
   "metadata": {},
   "outputs": [],
   "source": [
    "\n",
    "iris_df_setosa = iris_df.copy()\n",
    "iris_df_setosa['target'] = (iris_df['target'] == 0).astype(int)  # Class Setosa vs rest\n",
    "\n",
    "iris_df_versicolor = iris_df.copy()\n",
    "iris_df_versicolor['target'] = (iris_df['target'] == 1).astype(int)  # Class Versicolor vs rest\n",
    "\n",
    "iris_df_virginica = iris_df.copy()\n",
    "iris_df_virginica['target'] = (iris_df['target'] == 2).astype(int)  # Class Virginica vs rest\n"
   ]
  },
  {
   "cell_type": "code",
   "execution_count": 15,
   "metadata": {},
   "outputs": [
    {
     "data": {
      "text/plain": [
       "target\n",
       "0    100\n",
       "1     50\n",
       "Name: count, dtype: int64"
      ]
     },
     "execution_count": 15,
     "metadata": {},
     "output_type": "execute_result"
    }
   ],
   "source": [
    "iris_df_setosa['target'].value_counts()"
   ]
  },
  {
   "cell_type": "code",
   "execution_count": 16,
   "metadata": {},
   "outputs": [
    {
     "data": {
      "text/plain": [
       "target\n",
       "0    100\n",
       "1     50\n",
       "Name: count, dtype: int64"
      ]
     },
     "execution_count": 16,
     "metadata": {},
     "output_type": "execute_result"
    }
   ],
   "source": [
    "iris_df_versicolor['target'].value_counts()"
   ]
  },
  {
   "cell_type": "code",
   "execution_count": 17,
   "metadata": {},
   "outputs": [
    {
     "data": {
      "text/plain": [
       "target\n",
       "0    100\n",
       "1     50\n",
       "Name: count, dtype: int64"
      ]
     },
     "execution_count": 17,
     "metadata": {},
     "output_type": "execute_result"
    }
   ],
   "source": [
    "iris_df_virginica['target'].value_counts()"
   ]
  },
  {
   "cell_type": "code",
   "execution_count": 13,
   "metadata": {},
   "outputs": [
    {
     "name": "stdout",
     "output_type": "stream",
     "text": [
      "Training and evaluating classifier for class: Setosa\n",
      "Accuracy: 1.0\n",
      "              precision    recall  f1-score   support\n",
      "\n",
      "           0       1.00      1.00      1.00        20\n",
      "           1       1.00      1.00      1.00        10\n",
      "\n",
      "    accuracy                           1.00        30\n",
      "   macro avg       1.00      1.00      1.00        30\n",
      "weighted avg       1.00      1.00      1.00        30\n",
      "\n",
      "Training and evaluating classifier for class: Versicolor\n",
      "Accuracy: 0.8\n",
      "              precision    recall  f1-score   support\n",
      "\n",
      "           0       0.83      0.90      0.86        21\n",
      "           1       0.71      0.56      0.63         9\n",
      "\n",
      "    accuracy                           0.80        30\n",
      "   macro avg       0.77      0.73      0.74        30\n",
      "weighted avg       0.79      0.80      0.79        30\n",
      "\n",
      "Training and evaluating classifier for class: Virginica\n",
      "Accuracy: 1.0\n",
      "              precision    recall  f1-score   support\n",
      "\n",
      "           0       1.00      1.00      1.00        19\n",
      "           1       1.00      1.00      1.00        11\n",
      "\n",
      "    accuracy                           1.00        30\n",
      "   macro avg       1.00      1.00      1.00        30\n",
      "weighted avg       1.00      1.00      1.00        30\n",
      "\n"
     ]
    }
   ],
   "source": [
    "\n",
    "trained_classifiers = []\n",
    "\n",
    "# Training and evaluating logistic regression classifiers for each binary classification task\n",
    "for index, data in enumerate([iris_df_setosa, iris_df_versicolor, iris_df_virginica]):\n",
    "    class_names = ['Setosa', 'Versicolor', 'Virginica']\n",
    "    \n",
    "    print(f\"Training and evaluating classifier for class: {class_names[index]}\")\n",
    "    \n",
    "    X_train, X_test, y_train, y_test = train_test_split(data.iloc[:, :4], data.iloc[:, -1], test_size=0.2, random_state=42)\n",
    "    \n",
    "    classifier = LogisticRegression()\n",
    "    classifier.fit(X_train, y_train)\n",
    "    \n",
    "    predictions = classifier.predict(X_test)\n",
    "    print(f\"Accuracy: {accuracy_score(y_test, predictions)}\")\n",
    "    print(classification_report(y_test, predictions))\n",
    "    \n",
    "    trained_classifiers.append(classifier)\n"
   ]
  },
  {
   "cell_type": "code",
   "execution_count": 14,
   "metadata": {},
   "outputs": [
    {
     "name": "stdout",
     "output_type": "stream",
     "text": [
      "              precision    recall  f1-score   support\n",
      "\n",
      "           0       0.71      1.00      0.83        10\n",
      "           1       0.71      0.56      0.63         9\n",
      "           2       1.00      0.82      0.90        11\n",
      "\n",
      "    accuracy                           0.80        30\n",
      "   macro avg       0.81      0.79      0.79        30\n",
      "weighted avg       0.82      0.80      0.80        30\n",
      "\n",
      "Accuracy for Logistic Regression Ensemble: 0.8\n"
     ]
    }
   ],
   "source": [
    "\n",
    "X_train, X_test, y_train, y_test = train_test_split(iris_df.iloc[:, :4], iris_df.iloc[:, -1], test_size=0.2, random_state=42)\n",
    "\n",
    "individual_predictions = [classifier.predict(X_test) for classifier in trained_classifiers]\n",
    "# Combining predictions using majority voting\n",
    "final_predictions = [max(range(len(trained_classifiers)), key=lambda i: preds[i]) for preds in zip(*individual_predictions)]\n",
    "\n",
    "accuracy = accuracy_score(y_test, final_predictions)\n",
    "print(classification_report(y_test, final_predictions))\n",
    "print(f\"Accuracy for Logistic Regression Ensemble: {accuracy}\")\n"
   ]
  }
 ],
 "metadata": {
  "kernelspec": {
   "display_name": "Python 3",
   "language": "python",
   "name": "python3"
  },
  "language_info": {
   "codemirror_mode": {
    "name": "ipython",
    "version": 3
   },
   "file_extension": ".py",
   "mimetype": "text/x-python",
   "name": "python",
   "nbconvert_exporter": "python",
   "pygments_lexer": "ipython3",
   "version": "3.11.6"
  }
 },
 "nbformat": 4,
 "nbformat_minor": 2
}
